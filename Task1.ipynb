{
 "cells": [
  {
   "cell_type": "code",
   "execution_count": 1,
   "metadata": {},
   "outputs": [],
   "source": [
    "import numpy as np\n",
    "import qiskit as qk"
   ]
  },
  {
   "cell_type": "markdown",
   "metadata": {},
   "source": [
    "# Generate Random Vector $|\\varphi>$ on 4 Qubits\n",
    "The quantum state of 4 qubits can be specified by a vector of 2^4 amplitudes.\n",
    "\n",
    "For simplicity, I am considering only real values for amplitudes."
   ]
  },
  {
   "cell_type": "code",
   "execution_count": 47,
   "metadata": {},
   "outputs": [
    {
     "name": "stdout",
     "output_type": "stream",
     "text": [
      "Quantum State of 4 qubits = [ 0.24153199 -0.10654712  0.3602784   0.16770457 -0.24871177  0.00341616\n",
      " -0.40233047  0.0230149   0.06631768  0.36737779 -0.08719295  0.4040572\n",
      "  0.19380053  0.3287001  -0.08563866  0.29146228]\n",
      "Total Probability = 1.0\n"
     ]
    }
   ],
   "source": [
    "phi = 2*np.random.rand(16)-1 # 16 random values between -1 and 1\n",
    "phi = phi/np.linalg.norm(phi) # Normalizing\n",
    "print(\"Quantum State of 4 qubits =\", phi) # valid quantum state of 4 qubits\n",
    "print(\"Total Probability =\", np.sum(phi**2)) # probability sums to one"
   ]
  },
  {
   "cell_type": "markdown",
   "metadata": {},
   "source": [
    "# Implement Quantum Circuit\n",
    "Take the initial quantum state (phi), number of layers (L), and variational parameters (thetas) as input to get the output state"
   ]
  },
  {
   "cell_type": "code",
   "execution_count": 48,
   "metadata": {},
   "outputs": [],
   "source": [
    "class QuantumCircuitSim:\n",
    "    \n",
    "    # phi: random generated vector on 4 qubits so has 2^4 values denoting the quantum state\n",
    "    # L: number of layers\n",
    "    # thetas: variational parameters of all blocks in all layers as a single vector, contains L*2*4 values\n",
    "    def __init__(self, phi, L, thetas):\n",
    "        self.q = qk.QuantumRegister(4) # qubits\n",
    "        self.qc = qk.QuantumCircuit(self.q) # circuit\n",
    "        self.qc.initialize(phi, [self.q[0], self.q[1], self.q[2], self.q[3]])\n",
    "        \n",
    "        for i in range(L):\n",
    "            start_index = i*2*4\n",
    "            theta1 = thetas[start_index:start_index+4]\n",
    "            theta2 = thetas[start_index+4:start_index+8]\n",
    "            self.layer(theta1, theta2)\n",
    "            \n",
    "            \n",
    "    # theta1: variational paramters of odd block in the layer\n",
    "    # theta2: variational paramters of even block in the layer\n",
    "    def layer(self, theta1, theta2):\n",
    "        # odd block\n",
    "        self.qc.rx(theta1[0], self.q[0])\n",
    "        self.qc.rx(theta1[1], self.q[1])\n",
    "        self.qc.rx(theta1[2], self.q[2])\n",
    "        self.qc.rx(theta1[3], self.q[3])\n",
    "        \n",
    "        # even block\n",
    "        self.qc.rz(theta2[0], self.q[0])\n",
    "        self.qc.rz(theta2[1], self.q[1])\n",
    "        self.qc.rz(theta2[2], self.q[2])\n",
    "        self.qc.rz(theta2[3], self.q[3])\n",
    "        \n",
    "        self.qc.cz(self.q[0], self.q[1])\n",
    "        self.qc.cz(self.q[0], self.q[2])\n",
    "        self.qc.cz(self.q[0], self.q[3])\n",
    "        \n",
    "        self.qc.cz(self.q[1], self.q[2])\n",
    "        self.qc.cz(self.q[1], self.q[3])\n",
    "        \n",
    "        self.qc.cz(self.q[2], self.q[3])\n",
    "        \n",
    "        return\n",
    "    \n",
    "    def output(self):\n",
    "        backend = qk.BasicAer.get_backend('statevector_simulator')\n",
    "        job = qk.execute(self.qc, backend)\n",
    "        qc_state = job.result().get_statevector(self.qc)\n",
    "        return qc_state"
   ]
  },
  {
   "cell_type": "markdown",
   "metadata": {},
   "source": [
    "# Calculate Distance"
   ]
  },
  {
   "cell_type": "code",
   "execution_count": 56,
   "metadata": {},
   "outputs": [],
   "source": [
    "def distance(phi, L, thetas):\n",
    "    qcs = QuantumCircuitSim(phi, L, thetas)\n",
    "    output_state = qcs.output()\n",
    "    return np.linalg.norm(output_state-phi)**2"
   ]
  },
  {
   "cell_type": "markdown",
   "metadata": {},
   "source": [
    "# Example\n",
    "Number of layers (L) = 1"
   ]
  },
  {
   "cell_type": "code",
   "execution_count": 62,
   "metadata": {},
   "outputs": [
    {
     "name": "stdout",
     "output_type": "stream",
     "text": [
      "phi = [ 0.24153199 -0.10654712  0.3602784   0.16770457 -0.24871177  0.00341616\n",
      " -0.40233047  0.0230149   0.06631768  0.36737779 -0.08719295  0.4040572\n",
      "  0.19380053  0.3287001  -0.08563866  0.29146228]\n",
      "Thetas = [1.00061443 4.23793329 2.47599028 1.10542537 3.95875895 0.04614394\n",
      " 2.20519789 0.68349002]\n",
      "Output State = [ 0.07438203+0.37577821j -0.0930433 -0.00822295j  0.04793098+0.21466487j\n",
      "  0.0255898 -0.16038593j  0.20358474-0.02600755j  0.21950236+0.02593232j\n",
      " -0.1321992 +0.054292j    0.34815993-0.12477085j -0.01115215-0.09920891j\n",
      "  0.27421089+0.01211053j -0.17367535+0.10694775j  0.33070765-0.06112639j\n",
      " -0.34960583+0.16947776j -0.14459156+0.18583101j -0.12259171+0.08902453j\n",
      "  0.19204485-0.12393587j]\n",
      "Distance = 1.478570848668026\n"
     ]
    },
    {
     "data": {
      "text/html": [
       "<pre style=\"word-wrap: normal;white-space: pre;background: #fff0;line-height: 1.1;font-family: &quot;Courier New&quot;,Courier,monospace\">        »\n",
       "q733_0: »\n",
       "        »\n",
       "q733_1: »\n",
       "        »\n",
       "q733_2: »\n",
       "        »\n",
       "q733_3: »\n",
       "        »\n",
       "«        ┌──────────────────────────────────────────────────────────────────────────────────────────────────────────────────────────────────────────────────────┐»\n",
       "«q733_0: ┤0                                                                                                                                                     ├»\n",
       "«        │                                                                                                                                                      │»\n",
       "«q733_1: ┤1                                                                                                                                                     ├»\n",
       "«        │  initialize(0.24153,-0.10655,0.36028,0.1677,-0.24871,0.0034162,-0.40233,0.023015,0.066318,0.36738,-0.087193,0.40406,0.1938,0.3287,-0.085639,0.29146) │»\n",
       "«q733_2: ┤2                                                                                                                                                     ├»\n",
       "«        │                                                                                                                                                      │»\n",
       "«q733_3: ┤3                                                                                                                                                     ├»\n",
       "«        └──────────────────────────────────────────────────────────────────────────────────────────────────────────────────────────────────────────────────────┘»\n",
       "«        ┌────────────┐ ┌────────────┐                   \n",
       "«q733_0: ┤ RX(1.0006) ├─┤ RZ(3.9588) ├──■──■──■──────────\n",
       "«        ├────────────┤┌┴────────────┴┐ │  │  │          \n",
       "«q733_1: ┤ RX(4.2379) ├┤ RZ(0.046144) ├─■──┼──┼──■──■────\n",
       "«        ├───────────┬┘└┬────────────┬┘    │  │  │  │    \n",
       "«q733_2: ┤ RX(2.476) ├──┤ RZ(2.2052) ├─────■──┼──■──┼──■─\n",
       "«        ├───────────┴┐┌┴────────────┤        │     │  │ \n",
       "«q733_3: ┤ RX(1.1054) ├┤ RZ(0.68349) ├────────■─────■──■─\n",
       "«        └────────────┘└─────────────┘                   </pre>"
      ],
      "text/plain": [
       "        »\n",
       "q733_0: »\n",
       "        »\n",
       "q733_1: »\n",
       "        »\n",
       "q733_2: »\n",
       "        »\n",
       "q733_3: »\n",
       "        »\n",
       "«        ┌──────────────────────────────────────────────────────────────────────────────────────────────────────────────────────────────────────────────────────┐»\n",
       "«q733_0: ┤0                                                                                                                                                     ├»\n",
       "«        │                                                                                                                                                      │»\n",
       "«q733_1: ┤1                                                                                                                                                     ├»\n",
       "«        │  initialize(0.24153,-0.10655,0.36028,0.1677,-0.24871,0.0034162,-0.40233,0.023015,0.066318,0.36738,-0.087193,0.40406,0.1938,0.3287,-0.085639,0.29146) │»\n",
       "«q733_2: ┤2                                                                                                                                                     ├»\n",
       "«        │                                                                                                                                                      │»\n",
       "«q733_3: ┤3                                                                                                                                                     ├»\n",
       "«        └──────────────────────────────────────────────────────────────────────────────────────────────────────────────────────────────────────────────────────┘»\n",
       "«        ┌────────────┐ ┌────────────┐                   \n",
       "«q733_0: ┤ RX(1.0006) ├─┤ RZ(3.9588) ├──■──■──■──────────\n",
       "«        ├────────────┤┌┴────────────┴┐ │  │  │          \n",
       "«q733_1: ┤ RX(4.2379) ├┤ RZ(0.046144) ├─■──┼──┼──■──■────\n",
       "«        ├───────────┬┘└┬────────────┬┘    │  │  │  │    \n",
       "«q733_2: ┤ RX(2.476) ├──┤ RZ(2.2052) ├─────■──┼──■──┼──■─\n",
       "«        ├───────────┴┐┌┴────────────┤        │     │  │ \n",
       "«q733_3: ┤ RX(1.1054) ├┤ RZ(0.68349) ├────────■─────■──■─\n",
       "«        └────────────┘└─────────────┘                   "
      ]
     },
     "execution_count": 62,
     "metadata": {},
     "output_type": "execute_result"
    }
   ],
   "source": [
    "L = 1\n",
    "thetas = np.random.rand(L*2*4)*2*np.pi # L*2*4 values for variational parameters\n",
    "print(\"phi =\", phi)\n",
    "print(\"Thetas =\", thetas)\n",
    "qcs = QuantumCircuitSim(phi, L, thetas)\n",
    "print(\"Output State =\", qcs.output())\n",
    "print(\"Distance =\", distance(phi, L, thetas))\n",
    "qcs.qc.draw()"
   ]
  },
  {
   "cell_type": "code",
   "execution_count": null,
   "metadata": {},
   "outputs": [],
   "source": []
  }
 ],
 "metadata": {
  "kernelspec": {
   "display_name": "Python 3",
   "language": "python",
   "name": "python3"
  },
  "language_info": {
   "codemirror_mode": {
    "name": "ipython",
    "version": 3
   },
   "file_extension": ".py",
   "mimetype": "text/x-python",
   "name": "python",
   "nbconvert_exporter": "python",
   "pygments_lexer": "ipython3",
   "version": "3.7.9"
  }
 },
 "nbformat": 4,
 "nbformat_minor": 4
}
