{
 "cells": [
  {
   "cell_type": "code",
   "execution_count": 1,
   "metadata": {},
   "outputs": [],
   "source": [
    "import numpy as np\n",
    "import qiskit as qk\n",
    "import scipy\n",
    "import matplotlib.pyplot as plt\n",
    "from IPython.display import clear_output\n",
    "\n",
    "np.random.seed(1)"
   ]
  },
  {
   "cell_type": "markdown",
   "metadata": {},
   "source": [
    "# Generate Random Vector $|\\varphi>$ on 4 Qubits\n",
    "The quantum state of 4 qubits can be specified by a vector of 2^4 amplitudes.\n",
    "\n",
    "For simplicity, I am considering only real values for amplitudes."
   ]
  },
  {
   "cell_type": "code",
   "execution_count": 2,
   "metadata": {},
   "outputs": [
    {
     "name": "stdout",
     "output_type": "stream",
     "text": [
      "Quantum State of 4 qubits = [-0.07296247  0.19373111 -0.43954894 -0.17380877 -0.3106072  -0.35845627\n",
      " -0.27587109 -0.1357983  -0.09077226  0.03413152 -0.07105218  0.16286332\n",
      " -0.25987484  0.33247829 -0.41556762  0.14989191]\n",
      "Total Probability = 1.0\n"
     ]
    }
   ],
   "source": [
    "phi = 2*np.random.rand(16)-1 # 16 random values between -1 and 1\n",
    "phi = phi/np.linalg.norm(phi) # Normalizing\n",
    "print(\"Quantum State of 4 qubits =\", phi) # valid quantum state of 4 qubits\n",
    "print(\"Total Probability =\", np.sum(phi**2)) # probability sums to one"
   ]
  },
  {
   "cell_type": "markdown",
   "metadata": {},
   "source": [
    "# Implement Quantum Circuit\n",
    "Take the initial quantum state (phi), number of layers (L), and variational parameters (thetas) as input to get the output state"
   ]
  },
  {
   "cell_type": "code",
   "execution_count": 12,
   "metadata": {},
   "outputs": [],
   "source": [
    "class QuantumCircuitSim:\n",
    "    \n",
    "    # phi: random generated vector on 4 qubits so has 2^4 values denoting the quantum state\n",
    "    # L: number of layers\n",
    "    # thetas: variational parameters of all blocks in all layers as a single vector, contains L*2*4 values\n",
    "    def __init__(self, phi, L, thetas):\n",
    "        self.q = qk.QuantumRegister(4) # qubits\n",
    "        self.qc = qk.QuantumCircuit(self.q) # circuit\n",
    "        self.qc.initialize(phi, [self.q[0], self.q[1], self.q[2], self.q[3]])\n",
    "        \n",
    "        for i in range(L):\n",
    "            start_index = i*2*4\n",
    "            theta1 = thetas[start_index:start_index+4]\n",
    "            theta2 = thetas[start_index+4:start_index+8]\n",
    "            self.layer(theta1, theta2)\n",
    "            \n",
    "            \n",
    "    # theta1: variational paramters of odd block in the layer\n",
    "    # theta2: variational paramters of even block in the layer\n",
    "    def layer(self, theta1, theta2):\n",
    "        # odd block\n",
    "        self.qc.rx(theta1[0], self.q[0])\n",
    "        self.qc.rx(theta1[1], self.q[1])\n",
    "        self.qc.rx(theta1[2], self.q[2])\n",
    "        self.qc.rx(theta1[3], self.q[3])\n",
    "        \n",
    "        # even block\n",
    "        self.qc.rz(theta2[0], self.q[0])\n",
    "        self.qc.rz(theta2[1], self.q[1])\n",
    "        self.qc.rz(theta2[2], self.q[2])\n",
    "        self.qc.rz(theta2[3], self.q[3])\n",
    "        \n",
    "        self.qc.cz(self.q[0], self.q[1])\n",
    "        self.qc.cz(self.q[0], self.q[2])\n",
    "        self.qc.cz(self.q[0], self.q[3])\n",
    "        \n",
    "        self.qc.cz(self.q[1], self.q[2])\n",
    "        self.qc.cz(self.q[1], self.q[3])\n",
    "        \n",
    "        self.qc.cz(self.q[2], self.q[3])\n",
    "        \n",
    "        return\n",
    "    \n",
    "    def output(self):\n",
    "        backend = qk.BasicAer.get_backend('statevector_simulator')\n",
    "        job = qk.execute(self.qc, backend)\n",
    "        qc_state = job.result().get_statevector(self.qc)\n",
    "        return qc_state"
   ]
  },
  {
   "cell_type": "markdown",
   "metadata": {},
   "source": [
    "# Calculate Distance"
   ]
  },
  {
   "cell_type": "code",
   "execution_count": 13,
   "metadata": {},
   "outputs": [],
   "source": [
    "def distance(thetas, phi, L):\n",
    "    qcs = QuantumCircuitSim(phi, L, thetas)\n",
    "    output_state = qcs.output()\n",
    "    return np.linalg.norm(output_state-phi)**2"
   ]
  },
  {
   "cell_type": "markdown",
   "metadata": {},
   "source": [
    "# Example\n",
    "Number of layers (L) = 1"
   ]
  },
  {
   "cell_type": "code",
   "execution_count": 5,
   "metadata": {},
   "outputs": [
    {
     "name": "stdout",
     "output_type": "stream",
     "text": [
      "phi = [-0.07296247  0.19373111 -0.43954894 -0.17380877 -0.3106072  -0.35845627\n",
      " -0.27587109 -0.1357983  -0.09077226  0.03413152 -0.07105218  0.16286332\n",
      " -0.25987484  0.33247829 -0.41556762  0.14989191]\n",
      "Thetas = [2.6220034  3.51035172 0.88207715 1.24470837 5.03122651 6.08376691\n",
      " 1.96930219 4.34999129]\n",
      "Output State = [ 0.01921749-0.19493773j -0.15962392+0.10299508j -0.11408747+0.07997172j\n",
      " -0.05696953-0.19165537j  0.2798541 +0.00521404j  0.2798329 +0.25118482j\n",
      " -0.3548115 -0.16908835j  0.10877593+0.08702131j  0.02848993+0.01078387j\n",
      " -0.32992319+0.19882196j  0.1291352 +0.18947883j -0.03460493+0.20140866j\n",
      " -0.10261757-0.09505193j  0.13253221-0.24708296j  0.01770087-0.16681257j\n",
      " -0.09763272+0.30499222j]\n",
      "Distance = 2.1126317972880186\n"
     ]
    },
    {
     "data": {
      "text/html": [
       "<pre style=\"word-wrap: normal;white-space: pre;background: #fff0;line-height: 1.1;font-family: &quot;Courier New&quot;,Courier,monospace\">      »\n",
       "q0_0: »\n",
       "      »\n",
       "q0_1: »\n",
       "      »\n",
       "q0_2: »\n",
       "      »\n",
       "q0_3: »\n",
       "      »\n",
       "«      ┌────────────────────────────────────────────────────────────────────────────────────────────────────────────────────────────────────────────────────────────┐»\n",
       "«q0_0: ┤0                                                                                                                                                           ├»\n",
       "«      │                                                                                                                                                            │»\n",
       "«q0_1: ┤1                                                                                                                                                           ├»\n",
       "«      │  initialize(-0.072962,0.19373,-0.43955,-0.17381,-0.31061,-0.35846,-0.27587,-0.1358,-0.090772,0.034132,-0.071052,0.16286,-0.25987,0.33248,-0.41557,0.14989) │»\n",
       "«q0_2: ┤2                                                                                                                                                           ├»\n",
       "«      │                                                                                                                                                            │»\n",
       "«q0_3: ┤3                                                                                                                                                           ├»\n",
       "«      └────────────────────────────────────────────────────────────────────────────────────────────────────────────────────────────────────────────────────────────┘»\n",
       "«       ┌───────────┐ ┌────────────┐                  \n",
       "«q0_0: ─┤ RX(2.622) ├─┤ RZ(5.0312) ├─■──■──■──────────\n",
       "«       ├───────────┴┐├────────────┤ │  │  │          \n",
       "«q0_1: ─┤ RX(3.5104) ├┤ RZ(6.0838) ├─■──┼──┼──■──■────\n",
       "«      ┌┴────────────┤├────────────┤    │  │  │  │    \n",
       "«q0_2: ┤ RX(0.88208) ├┤ RZ(1.9693) ├────■──┼──■──┼──■─\n",
       "«      └┬────────────┤└┬──────────┬┘       │     │  │ \n",
       "«q0_3: ─┤ RX(1.2447) ├─┤ RZ(4.35) ├────────■─────■──■─\n",
       "«       └────────────┘ └──────────┘                   </pre>"
      ],
      "text/plain": [
       "      »\n",
       "q0_0: »\n",
       "      »\n",
       "q0_1: »\n",
       "      »\n",
       "q0_2: »\n",
       "      »\n",
       "q0_3: »\n",
       "      »\n",
       "«      ┌────────────────────────────────────────────────────────────────────────────────────────────────────────────────────────────────────────────────────────────┐»\n",
       "«q0_0: ┤0                                                                                                                                                           ├»\n",
       "«      │                                                                                                                                                            │»\n",
       "«q0_1: ┤1                                                                                                                                                           ├»\n",
       "«      │  initialize(-0.072962,0.19373,-0.43955,-0.17381,-0.31061,-0.35846,-0.27587,-0.1358,-0.090772,0.034132,-0.071052,0.16286,-0.25987,0.33248,-0.41557,0.14989) │»\n",
       "«q0_2: ┤2                                                                                                                                                           ├»\n",
       "«      │                                                                                                                                                            │»\n",
       "«q0_3: ┤3                                                                                                                                                           ├»\n",
       "«      └────────────────────────────────────────────────────────────────────────────────────────────────────────────────────────────────────────────────────────────┘»\n",
       "«       ┌───────────┐ ┌────────────┐                  \n",
       "«q0_0: ─┤ RX(2.622) ├─┤ RZ(5.0312) ├─■──■──■──────────\n",
       "«       ├───────────┴┐├────────────┤ │  │  │          \n",
       "«q0_1: ─┤ RX(3.5104) ├┤ RZ(6.0838) ├─■──┼──┼──■──■────\n",
       "«      ┌┴────────────┤├────────────┤    │  │  │  │    \n",
       "«q0_2: ┤ RX(0.88208) ├┤ RZ(1.9693) ├────■──┼──■──┼──■─\n",
       "«      └┬────────────┤└┬──────────┬┘       │     │  │ \n",
       "«q0_3: ─┤ RX(1.2447) ├─┤ RZ(4.35) ├────────■─────■──■─\n",
       "«       └────────────┘ └──────────┘                   "
      ]
     },
     "execution_count": 5,
     "metadata": {},
     "output_type": "execute_result"
    }
   ],
   "source": [
    "L = 1\n",
    "thetas = np.random.rand(L*2*4)*2*np.pi # L*2*4 values for variational parameters\n",
    "print(\"phi =\", phi)\n",
    "print(\"Thetas =\", thetas)\n",
    "qcs = QuantumCircuitSim(phi, L, thetas)\n",
    "print(\"Output State =\", qcs.output())\n",
    "print(\"Distance =\", distance(thetas, phi, L))\n",
    "qcs.qc.draw()"
   ]
  },
  {
   "cell_type": "markdown",
   "metadata": {},
   "source": [
    "# Calculate Min Distance"
   ]
  },
  {
   "cell_type": "code",
   "execution_count": 14,
   "metadata": {},
   "outputs": [],
   "source": [
    "# L is number of layers\n",
    "def min_distance(L):\n",
    "    initial_thetas = np.random.rand(L*2*4)*2*np.pi # variational parameters\n",
    "    \n",
    "    # Optimize variational parameters to get minimum distance\n",
    "    result = scipy.optimize.minimize(distance, initial_thetas, args=(phi,L), method='L-BFGS-B', \n",
    "                                     options={'maxfun': 15000, 'maxiter': 15000})\n",
    "    optim_thetas = result.x\n",
    "    \n",
    "    return distance(optim_thetas, phi, L), optim_thetas"
   ]
  },
  {
   "cell_type": "markdown",
   "metadata": {},
   "source": [
    "# Plot Min Distance ($\\epsilon$) vs Num of Layers (L)"
   ]
  },
  {
   "cell_type": "code",
   "execution_count": 15,
   "metadata": {},
   "outputs": [],
   "source": [
    "def plot(Ls, dists, title=\"Min Distance vs Number of Layers\"):\n",
    "    plt.figure(figsize=(8,6))\n",
    "    plt.plot(Ls,dists)\n",
    "    plt.xticks(Ls)\n",
    "    plt.xlabel(\"Number of Layers (L)\")\n",
    "    plt.ylabel(r\"Min Distance ($\\epsilon$)\")\n",
    "    plt.title(title)\n",
    "    plt.show()"
   ]
  },
  {
   "cell_type": "code",
   "execution_count": 11,
   "metadata": {},
   "outputs": [
    {
     "data": {
      "image/png": "[encoded data removed]",
      "text/plain": [
       "<Figure size 576x432 with 1 Axes>"
      ]
     },
     "metadata": {
      "needs_background": "light"
     },
     "output_type": "display_data"
    }
   ],
   "source": [
    "num_L = 10\n",
    "Ls = []\n",
    "min_dists = []\n",
    "optim_thetas = []\n",
    "for L in range(1,1+num_L):\n",
    "    Ls.append(L)\n",
    "    min_dist, optim_theta = min_distance(L)\n",
    "    min_dists.append(min_dist)\n",
    "    optim_thetas.append(optim_theta)\n",
    "    clear_output()\n",
    "    plot(Ls, min_dists)"
   ]
  },
  {
   "cell_type": "markdown",
   "metadata": {},
   "source": [
    "# Result\n",
    "The loss (min distance) is almost zero for L $\\ge$ 2 as there exist optimal variational parameters for the identity mapping circuit that could be found by gradient descent."
   ]
  },
  {
   "cell_type": "markdown",
   "metadata": {},
   "source": [
    "# Bonus\n",
    "Replace RX gate by RY and RZ gate by RX"
   ]
  },
  {
   "cell_type": "code",
   "execution_count": 16,
   "metadata": {},
   "outputs": [
    {
     "data": {
      "image/png": "[encoded data removed]",
      "text/plain": [
       "<Figure size 576x432 with 1 Axes>"
      ]
     },
     "metadata": {
      "needs_background": "light"
     },
     "output_type": "display_data"
    }
   ],
   "source": [
    "num_L = 10\n",
    "Ls = []\n",
    "min_dists = []\n",
    "optim_thetas = []\n",
    "for L in range(1,1+num_L):\n",
    "    Ls.append(L)\n",
    "    min_dist, optim_theta = min_distance(L)\n",
    "    min_dists.append(min_dist)\n",
    "    optim_thetas.append(optim_theta)\n",
    "    clear_output()\n",
    "    plot(Ls, min_dists, title=\"Min Distance vs Number of Layers (RX gate replaced by RY, RZ by RX)\")"
   ]
  },
  {
   "cell_type": "markdown",
   "metadata": {},
   "source": [
    "# Bonus Result\n",
    "The loss fluctuates a lot with respect to number of layers (L)."
   ]
  },
  {
   "cell_type": "code",
   "execution_count": null,
   "metadata": {},
   "outputs": [],
   "source": []
  }
 ],
 "metadata": {
  "kernelspec": {
   "display_name": "Python 3",
   "language": "python",
   "name": "python3"
  },
  "language_info": {
   "codemirror_mode": {
    "name": "ipython",
    "version": 3
   },
   "file_extension": ".py",
   "mimetype": "text/x-python",
   "name": "python",
   "nbconvert_exporter": "python",
   "pygments_lexer": "ipython3",
   "version": "3.7.9"
  }
 },
 "nbformat": 4,
 "nbformat_minor": 4
}
